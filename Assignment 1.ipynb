{
  "nbformat": 4,
  "nbformat_minor": 0,
  "metadata": {
    "colab": {
      "provenance": []
    },
    "kernelspec": {
      "name": "python3",
      "display_name": "Python 3"
    },
    "language_info": {
      "name": "python"
    }
  },
  "cells": [
    {
      "cell_type": "code",
      "execution_count": 1,
      "metadata": {
        "id": "ytK52NQJYu7I"
      },
      "outputs": [],
      "source": [
        "#Python Basics."
      ]
    },
    {
      "cell_type": "markdown",
      "source": [
        "Questions- What is Python, and why is it popular.\n",
        "Answer-Python is a programming language and it is famous for its verstality,easy to use,it has lot of libraries with large community and it is a open source language."
      ],
      "metadata": {
        "id": "TpI0pVQtceJ2"
      }
    },
    {
      "cell_type": "markdown",
      "source": [
        "2.What is an interpreter in Python.\n",
        "Answer-It is a program which execute python code line by line."
      ],
      "metadata": {
        "id": "UzKQdGwbdGWG"
      }
    },
    {
      "cell_type": "markdown",
      "source": [
        "3.What are pre-defined keywords in Python?\n",
        "Answer-It refers to the keyword which are used to perform a specific task and you cannot use them as variable,functions and identifiers.\n"
      ],
      "metadata": {
        "id": "re2BXZTYduKG"
      }
    },
    {
      "cell_type": "markdown",
      "source": [
        "4.Can keywords be used as variable names. Answer- No keywords cannot be used as variable names."
      ],
      "metadata": {
        "id": "eyUcaHckeozx"
      }
    },
    {
      "cell_type": "markdown",
      "source": [
        "5.What is mutability in Python?\n",
        "Answer-Mutability refers to the change in object after a function is created, it refers to object which can be modiefied."
      ],
      "metadata": {
        "id": "YH5ALS18dqWs"
      }
    },
    {
      "cell_type": "markdown",
      "source": [
        "6.Why are lists mutable, but tuples are immutable\n",
        "Answer-Python treats list and tuple differently based on how they are intended to be used\n"
      ],
      "metadata": {
        "id": "MoXJflkRfqd1"
      }
    },
    {
      "cell_type": "markdown",
      "source": [
        "7.What is the difference between “==” and “is” operators in Python?\n",
        "Answer-\"==\" check whether the values are the same.\n",
        "\"is\" compares the object identities.\n"
      ],
      "metadata": {
        "id": "KntfIr5ogrJH"
      }
    },
    {
      "cell_type": "markdown",
      "source": [
        "8.What are logical operators in Python? Answer-Logical Operator compares two conditions, Example- or and if\n"
      ],
      "metadata": {
        "id": "ay5b67bsh5Bz"
      }
    },
    {
      "cell_type": "markdown",
      "source": [
        "9.What is type casting in Python?\n",
        "Answer-Typpe casting is used to change data type from one to another."
      ],
      "metadata": {
        "id": "f5e0bXgZiaUw"
      }
    },
    {
      "cell_type": "markdown",
      "source": [
        "10.What is the difference between implicit and explicit type casting ?\n",
        "Answer- Implicity type casting is done automatically by python while explicit is being done manually by the programmer.\n"
      ],
      "metadata": {
        "id": "PBkyEEEZi85c"
      }
    },
    {
      "cell_type": "markdown",
      "source": [
        "11.What is the purpose of conditional statements in Python? Answer- It make decision according to the statemet. Ex- If, But and Else.\n"
      ],
      "metadata": {
        "id": "blcQWcpujvf5"
      }
    },
    {
      "cell_type": "markdown",
      "source": [
        "12.How does the elif statement work?\n",
        "Answer- It is used for multiple case scenerios, if one fails then second one will wor and used in case of if, else and but.\n"
      ],
      "metadata": {
        "id": "b2SvlVH3kFqA"
      }
    },
    {
      "cell_type": "markdown",
      "source": [
        "13.What is the difference between for and while loops?\n",
        "Ans- For Loops-It is used where you know how many times you want to execute.\n",
        "     While loops- where you dont know how many times you want to execute."
      ],
      "metadata": {
        "id": "FcTKVsspkbqo"
      }
    },
    {
      "cell_type": "markdown",
      "source": [
        "14.Describe a scenario where a while loop is more suitable than a for loop.\n",
        "Asn-It is suitalble for the correct password checking."
      ],
      "metadata": {
        "id": "y0qQIibOlPW7"
      }
    },
    {
      "cell_type": "code",
      "source": [
        "#1. Write a Python program to print \"Hello, World!\"\".\n",
        "print(\"Hello World!\")"
      ],
      "metadata": {
        "colab": {
          "base_uri": "https://localhost:8080/"
        },
        "id": "JHgZfglmlxOa",
        "outputId": "4fbf271c-b6ec-4025-c484-fffbcf57af9f"
      },
      "execution_count": 2,
      "outputs": [
        {
          "output_type": "stream",
          "name": "stdout",
          "text": [
            "Hello World!\n"
          ]
        }
      ]
    },
    {
      "cell_type": "code",
      "source": [
        "#2. Write a Python program that displays your name and age.\n",
        "name=\"Krishna Bhatia\"\n",
        "age=27\n",
        "print(\"Name\",name)\n",
        "print(\"Age\",age)"
      ],
      "metadata": {
        "colab": {
          "base_uri": "https://localhost:8080/"
        },
        "id": "VVx8fStKmJs7",
        "outputId": "483a9c43-2999-479e-d1a9-08ec255cad01"
      },
      "execution_count": 15,
      "outputs": [
        {
          "output_type": "stream",
          "name": "stdout",
          "text": [
            "Name Krishna Bhatia\n",
            "Age 27\n"
          ]
        }
      ]
    },
    {
      "cell_type": "code",
      "source": [
        "#3. Write code to print all the pre-defined keywords in Python using the keyword library.\n",
        "import keyword as k\n",
        "print(k.kwlist)"
      ],
      "metadata": {
        "colab": {
          "base_uri": "https://localhost:8080/"
        },
        "id": "pkp_f9LRq6os",
        "outputId": "1eba3434-06d4-44f4-cd65-94cef043f738"
      },
      "execution_count": 17,
      "outputs": [
        {
          "output_type": "stream",
          "name": "stdout",
          "text": [
            "['False', 'None', 'True', 'and', 'as', 'assert', 'async', 'await', 'break', 'class', 'continue', 'def', 'del', 'elif', 'else', 'except', 'finally', 'for', 'from', 'global', 'if', 'import', 'in', 'is', 'lambda', 'nonlocal', 'not', 'or', 'pass', 'raise', 'return', 'try', 'while', 'with', 'yield']\n"
          ]
        }
      ]
    },
    {
      "cell_type": "code",
      "source": [
        "#4.Write a program that checks if a given word is a Python keyword.\n",
        "word=input(\"ENTER THE WORD YOU WANT TO CHECK :\")\n",
        "if k.iskeyword(word):\n",
        "    print(\"Yes it is a python keyword:\",word)\n",
        "else:\n",
        "    print(\"NO it is not a python keyword:\",word)"
      ],
      "metadata": {
        "colab": {
          "base_uri": "https://localhost:8080/"
        },
        "id": "BeO0_TxUrc2-",
        "outputId": "120fe40f-0d82-45bf-eb71-05f5301d42b0"
      },
      "execution_count": 18,
      "outputs": [
        {
          "output_type": "stream",
          "name": "stdout",
          "text": [
            "ENTER THE WORD YOU WANT TO CHECK :global\n",
            "Yes it is a python keyword: global\n"
          ]
        }
      ]
    },
    {
      "cell_type": "code",
      "source": [
        " #5.Create a list and tuple in Python, and demonstrate how attempting to change an element works differently for each.\n",
        "orgl=[1,2,3,\"krishna\"]\n",
        "print(f'oringnal list:{orgl}')\n",
        "#modified list\n",
        "orgl[2]=\"pw skills\"\n",
        "print(f'modified list:{orgl}')\n",
        "# now for creation of tuple\n",
        "orgtup=(22,55,85,552)\n",
        "print(f\"oringnal tupe:{orgtup}\")\n",
        "#now for modified tupple\n",
        "\"\"\"orgtup[1]=\"hello\"\n",
        "print(f'oringnal tuple:{org_tup})\n",
        "it wiil throw an error because an tuple  cannot  be updated because it is mutable\"\"\""
      ],
      "metadata": {
        "colab": {
          "base_uri": "https://localhost:8080/",
          "height": 88
        },
        "id": "h72qwF4isa7l",
        "outputId": "f928b2e0-187e-4e22-b2e0-adc8d92a7c35"
      },
      "execution_count": 20,
      "outputs": [
        {
          "output_type": "stream",
          "name": "stdout",
          "text": [
            "oringnal list:[1, 2, 3, 'krishna']\n",
            "modified list:[1, 2, 'pw skills', 'krishna']\n",
            "oringnal tupe:(22, 55, 85, 552)\n"
          ]
        },
        {
          "output_type": "execute_result",
          "data": {
            "text/plain": [
              "'orgtup[1]=\"hello\"\\nprint(f\\'oringnal tuple:{org_tup})\\nit wiil throw an error because an tuple  cannot  be updated because it is mutable'"
            ],
            "application/vnd.google.colaboratory.intrinsic+json": {
              "type": "string"
            }
          },
          "metadata": {},
          "execution_count": 20
        }
      ]
    },
    {
      "cell_type": "code",
      "source": [
        "#6.Write a function to demonstrate the behavior of mutable and immutable arguments.\n",
        "def change_values(a, b):\n",
        "    a = a + 1         # int (immutable)\n",
        "    b.append(4)       # list (mutable)\n",
        "    print(\"Inside function:\", a, b)\n",
        "\n",
        "x = 1025\n",
        "y = [14, 5, 34]\n",
        "change_values(x, y)\n",
        "print(\"Outside function:\", x, y)\n"
      ],
      "metadata": {
        "colab": {
          "base_uri": "https://localhost:8080/"
        },
        "id": "soqpjKcTtIKO",
        "outputId": "fa2730ee-8412-4279-9e49-6721956328ac"
      },
      "execution_count": 21,
      "outputs": [
        {
          "output_type": "stream",
          "name": "stdout",
          "text": [
            "Inside function: 1026 [14, 5, 34, 4]\n",
            "Outside function: 1025 [14, 5, 34, 4]\n"
          ]
        }
      ]
    },
    {
      "cell_type": "code",
      "source": [
        "#7.Write a program that performs basic arithmetic operations on two user-input numbers.\n",
        "no1=int(input(\"enter the first no:\"))\n",
        "no2=int(input(\"enter the second no:\"))\n",
        "print(f\"The Additon of {no1} and {no2} is {no1+no2}\")\n",
        "print(f\"The Subtraction of {no1} and {no2} is {no1-no2}\")\n",
        "print(f\"The Multiplication of {no1} and {no2} is {no1*no2}\")\n",
        "print(f\"The Divide of {no1} and {no2} is {no1/no2}\")"
      ],
      "metadata": {
        "colab": {
          "base_uri": "https://localhost:8080/"
        },
        "id": "TlYwansVtc4O",
        "outputId": "f3fd3894-7d15-4e8c-8dba-87d7f257bcea"
      },
      "execution_count": 22,
      "outputs": [
        {
          "output_type": "stream",
          "name": "stdout",
          "text": [
            "enter the first no:45\n",
            "enter the second no:30\n",
            "The Additon of 45 and 30 is 75\n",
            "The Subtraction of 45 and 30 is 15\n",
            "The Multiplication of 45 and 30 is 1350\n",
            "The Divide of 45 and 30 is 1.5\n"
          ]
        }
      ]
    },
    {
      "cell_type": "code",
      "source": [
        "#8.Write a program to demonstrate the use of logical operators.\n",
        "x=62\n",
        "y=71\n",
        "print(x>1 and y>1)#true\n",
        "print(x<1 or y>1)# true\n",
        "print(not(x==25))"
      ],
      "metadata": {
        "colab": {
          "base_uri": "https://localhost:8080/"
        },
        "id": "8htvcO-Yt0-g",
        "outputId": "e77a72e7-0d8e-449a-aaab-bc9d0ee7aac1"
      },
      "execution_count": 23,
      "outputs": [
        {
          "output_type": "stream",
          "name": "stdout",
          "text": [
            "True\n",
            "True\n",
            "False\n"
          ]
        }
      ]
    },
    {
      "cell_type": "code",
      "source": [
        "#9.Write a Python program to convert user input from string to integer, float, and boolean types.\n",
        "userstring=input(\"Enter the text you wnat to convert :\")\n",
        "print(\"the user has enter the data type :\",type(userstring))\n",
        "b=int(userstring)\n",
        "print(\"now it has converted to integer\", type(b),\"it value is:\",b)\n",
        "c=float(userstring)\n",
        "print(\"now it has converted to float\",type(c),\"it value is:\",c)\n",
        "d=bool(userstring)\n",
        "print(\"now it has converted to boolean\",type(d),\"it value is:\",d)"
      ],
      "metadata": {
        "colab": {
          "base_uri": "https://localhost:8080/"
        },
        "id": "id85TTaOuaUD",
        "outputId": "63cf9c15-abea-4fa7-e02f-74e8b621e8fd"
      },
      "execution_count": 24,
      "outputs": [
        {
          "output_type": "stream",
          "name": "stdout",
          "text": [
            "Enter the text you wnat to convert :67\n",
            "the user has enter the data type : <class 'str'>\n",
            "now it has converted to integer <class 'int'> it value is: 67\n",
            "now it has converted to float <class 'float'> it value is: 67.0\n",
            "now it has converted to boolean <class 'bool'> it value is: True\n"
          ]
        }
      ]
    },
    {
      "cell_type": "code",
      "source": [
        "#10.Write code to demonstrate type casting with list elements.\n",
        "normal_list=[\"5\",\"4\",\"3\",\"2\",\"1\"]\n",
        "newlist=[]\n",
        "for i in normal_list:\n",
        "    newlist.append(int(i))\n",
        "print(\"old list in the form of string \",normal_list)\n",
        "print(\"updated listin the  int form\",newlist)"
      ],
      "metadata": {
        "colab": {
          "base_uri": "https://localhost:8080/"
        },
        "id": "PK7rKTZIuoAt",
        "outputId": "ba16def5-f6be-40d3-9431-89f979e26870"
      },
      "execution_count": 25,
      "outputs": [
        {
          "output_type": "stream",
          "name": "stdout",
          "text": [
            "old list in the form of string  ['5', '4', '3', '2', '1']\n",
            "updated listin the  int form [5, 4, 3, 2, 1]\n"
          ]
        }
      ]
    },
    {
      "cell_type": "code",
      "source": [
        "#11.Write a program that checks if a number is positive, negative, or zero.\n",
        "no=int(input(\"enter the no you want to check:\"))\n",
        "if(no>0):\n",
        "    print(\"you have entered a positive no.\",no)\n",
        "elif(no<0):\n",
        "    print(\"you have entered a negative no:\",no)\n",
        "else:\n",
        "    print(\"you have entered zero:\",no)"
      ],
      "metadata": {
        "colab": {
          "base_uri": "https://localhost:8080/"
        },
        "id": "H_PQ40DYuz4g",
        "outputId": "17aaf8c8-65f9-479e-c4a6-e5f38656a33f"
      },
      "execution_count": 26,
      "outputs": [
        {
          "output_type": "stream",
          "name": "stdout",
          "text": [
            "enter the no you want to check:56\n",
            "you have entered a positive no. 56\n"
          ]
        }
      ]
    },
    {
      "cell_type": "code",
      "source": [
        "#12.Write a for loop to print numbers from 1 to 10.\n",
        "for i in range(1,11):\n",
        "    print(i)\n"
      ],
      "metadata": {
        "colab": {
          "base_uri": "https://localhost:8080/"
        },
        "id": "eRgKaR1FvK1D",
        "outputId": "63af7bcd-9880-468d-a02c-ae7c55723b4a"
      },
      "execution_count": 28,
      "outputs": [
        {
          "output_type": "stream",
          "name": "stdout",
          "text": [
            "1\n",
            "2\n",
            "3\n",
            "4\n",
            "5\n",
            "6\n",
            "7\n",
            "8\n",
            "9\n",
            "10\n"
          ]
        }
      ]
    },
    {
      "cell_type": "code",
      "source": [
        "#13.Write a Python program to find the sum of all even numbers between 1 and 50.\n",
        "total=0\n",
        "for i in range(1,51):\n",
        "    if i%2==0:\n",
        "        total=total+i\n",
        "print(total)"
      ],
      "metadata": {
        "colab": {
          "base_uri": "https://localhost:8080/"
        },
        "id": "ooA9Q269vfWs",
        "outputId": "04344fee-edba-46c7-df6e-0258302cd0e4"
      },
      "execution_count": 29,
      "outputs": [
        {
          "output_type": "stream",
          "name": "stdout",
          "text": [
            "650\n"
          ]
        }
      ]
    },
    {
      "cell_type": "code",
      "source": [
        "#14.Write a program to reverse a string using a while loop.\n",
        "name=input(\"\")\n",
        "reversename=\"\"\n",
        "index=len(name)-1\n",
        "while index>=0:\n",
        "    reversename=reversename+name[index]\n",
        "    index=index-1\n",
        "print(\"reverse string\",reversename)"
      ],
      "metadata": {
        "colab": {
          "base_uri": "https://localhost:8080/"
        },
        "id": "syIKMuwhwPq5",
        "outputId": "37abe972-0e35-435d-cb36-df21c7b70811"
      },
      "execution_count": 31,
      "outputs": [
        {
          "output_type": "stream",
          "name": "stdout",
          "text": [
            "Krishna\n",
            "reverse string anhsirK\n"
          ]
        }
      ]
    },
    {
      "cell_type": "code",
      "source": [
        "#15.Write a Python program to calculate the factorial of a number provided by the user using a while loop.\n",
        "\n",
        "num = int(input(\"Enter a number to calculate its factorial \"));\n",
        "i = 1;\n",
        "fact_num = 1;\n",
        "while i<=num:\n",
        "  fact_num*=i;\n",
        "  i+=1;\n",
        "print(fact_num);"
      ],
      "metadata": {
        "colab": {
          "base_uri": "https://localhost:8080/"
        },
        "id": "FZal_zrYwdKz",
        "outputId": "fe73f908-4365-4e63-8563-d0a1f3ddaa2d"
      },
      "execution_count": 33,
      "outputs": [
        {
          "output_type": "stream",
          "name": "stdout",
          "text": [
            "Enter a number to calculate its factorial 67\n",
            "36471110918188685288249859096605464427167635314049524593701628500267962436943872000000000000000\n"
          ]
        }
      ]
    }
  ]
}